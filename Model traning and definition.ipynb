{
 "cells": [
  {
   "cell_type": "markdown",
   "metadata": {},
   "source": [
    "# Model Definition and Training\n",
    "The following code is used to define and compile the model. The various iterations of the model are then trained and validate on the appropiate data with all weights/models saved and graphed for analysis and evaluation at a later stage in the project.\n",
    "\n",
    "First we import some of the packages we need:\n"
   ]
  },
  {
   "cell_type": "code",
   "execution_count": 1,
   "metadata": {
    "collapsed": true
   },
   "outputs": [
    {
     "name": "stderr",
     "output_type": "stream",
     "text": [
      "Using TensorFlow backend.\n"
     ]
    }
   ],
   "source": [
    "import numpy as np\n",
    "from keras.callbacks import ModelCheckpoint, TensorBoard, EarlyStopping\n",
    "from keras.utils import to_categorical, plot_model\n",
    "from keras import backend as K\n",
    "from time import time\n",
    "import matplotlib.pyplot as plt\n",
    "%matplotlib inline\n",
    "import pandas as pd\n",
    "from IPython.display import display \n",
    "from PIL import Image"
   ]
  },
  {
   "cell_type": "markdown",
   "metadata": {},
   "source": [
    "## Define and Compile Model\n",
    "\n",
    "The model is created using an architecture from Keras' applications package. This model loaded with the weights as appropriate and connected to a linearly activated output node (with some dropout applied for certain models) which will produce an MOS value. It is then compiled with the selected optimizer, saved and plotted to an image file."
   ]
  },
  {
   "cell_type": "code",
   "execution_count": 21,
   "metadata": {
    "collapsed": true
   },
   "outputs": [
    {
     "name": "stdout",
     "output_type": "stream",
     "text": [
      "_________________________________________________________________\n",
      "Layer (type)                 Output Shape              Param #   \n",
      "=================================================================\n",
      "vgg16 (Model)                (None, 512)               14714688  \n",
      "_________________________________________________________________\n",
      "dense_4 (Dense)              (None, 1)                 513       \n",
      "=================================================================\n",
      "Total params: 14,715,201\n",
      "Trainable params: 14,715,201\n",
      "Non-trainable params: 0\n",
      "_________________________________________________________________\n"
     ]
    }
   ],
   "source": [
    "from keras import models\n",
    "from keras.layers import convolutional, pooling, core\n",
    "from keras.models import Model\n",
    "from keras import optimizers\n",
    "#from keras.applications import ResNet50\n",
    "#from keras.applications import VGG19\n",
    "from keras.applications import VGG16\n",
    "#from keras.applications import densenet\n",
    "#from keras.applications import mobilenet\n",
    "#from keras.applications.resnet_v2 import ResNet50V2\n",
    "#from keras.applications import inception_v3\n",
    "#from keras.layers.normalization import BatchNormalization\n",
    " \n",
    "#base_model= inception_v3.InceptionV3(weights='imagenet',\n",
    "#                 include_top=False, input_shape=(217,781,3))\n",
    "\n",
    "#inception = inception_v3.InceptionV3(include_top = False, pooling='avg', weights ='imagenet', input_shape=(217, 781,3))\n",
    "#resnet = ResNet50(include_top = False, pooling='avg', weights ='imagenet', input_shape=(217, 781,3))\n",
    "#densenet = densenet.DenseNet121(include_top = False, pooling='avg', weights ='imagenet', input_shape=(217, 781,3))\n",
    "#mobilenet = mobilenet.MobileNet(input_shape=(217, 781,3), alpha=1.0, depth_multiplier=1, dropout=1e-3, include_top=False, weights='imagenet',  pooling='avg')\n",
    "#vgg = VGG19(include_top = False, pooling='avg', weights ='imagenet', input_shape=(217, 781,3))\n",
    "vgg2 = VGG16(include_top = False, pooling='avg', weights ='imagenet', input_shape=(217, 781,3))\n",
    "\n",
    "model = models.Sequential()\n",
    "#model.add(densenet)\n",
    "model.add(vgg2)\n",
    "#model.add(inception)\n",
    "#model.add(mobilenet)\n",
    "#model.add(resnet)\n",
    "#model.add(core.Dropout(0.75))\n",
    "#model.add(core.Dense(256, activation='relu'))\n",
    "model.add(core.Dense(1, activation='linear'))\n",
    "for layer in vgg2.layers[:]:\n",
    "    layer.trainable=True\n",
    "#for layer in resnet.layers[:-6]:\n",
    "    \n",
    "#model.layers[-4].trainable=False\n",
    "model.compile(optimizer=optimizers.Adam(lr=1e-04), loss='mean_squared_error', metrics=['mae'])\n",
    "#model.compile(optimizers.Adadelta(lr=1.0, rho=0.95, epsilon=1e-08, decay=0.0), loss='mean_squared_error', metrics=['mae'])\n",
    "#model.compile(optimizer=optimizers.Adagrad(lr=0.01, epsilon=1e-08, decay=0.0), loss='mean_squared_error', metrics=['mae'])\n",
    "#model.compile(optimizer=optimizers.RMSprop(lr=0.001, rho=0.9, epsilon=1e-08, decay=0.0), loss='mean_squared_error',  metrics=['mae'])\n",
    "\n",
    "\n",
    "\n",
    "\n",
    "\n",
    "model.summary()"
   ]
  },
  {
   "cell_type": "code",
   "execution_count": 41,
   "metadata": {},
   "outputs": [],
   "source": [
    "filename = './models/vgg16_avg_NOdropoutFULL.h5'\n",
    "model.save(filename)"
   ]
  },
  {
   "cell_type": "code",
   "execution_count": null,
   "metadata": {
    "collapsed": true
   },
   "outputs": [],
   "source": [
    "import pydot\n",
    "\n",
    "\n",
    "plot_model(model, to_file='proposedmodel.png', show_shapes=True )"
   ]
  },
  {
   "cell_type": "markdown",
   "metadata": {},
   "source": [
    "## Model Training\n",
    "The csv containing the training features (spectrograms) and labels (POLQA MOS scores) is loaded into a dataframe and randomised. This randomised set of dataframe is then saved to csv to be loaded later in the  evaluation process. The imagedatagen object then splits the data into validation and training sets (20% and 80%) and identifies the images to be used for each stage. Any Data Augmentation is applied as a parameter of this model at this point."
   ]
  },
  {
   "cell_type": "code",
   "execution_count": 44,
   "metadata": {},
   "outputs": [],
   "source": [
    "#dfrand.to_csv('randomisedSWBscores2.csv',index=False)\n",
    "dfrand=pd.read_csv('randomisedSWBscores.csv')\n",
    "#dfrand.to_csv('randomisedNBscores.csv',index=False)\n",
    "#dfrand=pd.read_csv('randomisedNBscores.csv')"
   ]
  },
  {
   "cell_type": "code",
   "execution_count": null,
   "metadata": {},
   "outputs": [],
   "source": [
    "dfrand.head()"
   ]
  },
  {
   "cell_type": "code",
   "execution_count": 26,
   "metadata": {
    "collapsed": true
   },
   "outputs": [],
   "source": [
    "df=pd.read_csv('specswbfull2.csv', sep='\\t')\n",
    "#df=pd.read_csv('specNBfull2.csv', sep='\\t')\n",
    "pd.set_option('display.max_colwidth', -1)\n",
    "dfrand=df.sample(frac=1)"
   ]
  },
  {
   "cell_type": "code",
   "execution_count": 29,
   "metadata": {
    "collapsed": true
   },
   "outputs": [
    {
     "name": "stdout",
     "output_type": "stream",
     "text": [
      "Found 57686 images.\n",
      "Found 14421 images.\n"
     ]
    }
   ],
   "source": [
    "from keras.preprocessing.image import ImageDataGenerator\n",
    "datagen = ImageDataGenerator(rescale=1./255, validation_split=0.2)\n",
    "batch_size = 5\n",
    "\n",
    "shift=0.2\n",
    "#featurewise_center=False, featurewise_std_normalization=False, rotation_range=90, width_shift_range=shift, height_shift_range=shiftzca_whitening=True, horizontal_flip=True, -- for data aug\n",
    "#contrast_stretching=True, adaptive_equalization=True, histogram_equalization=True, rotation_range=90, width_shift_range=shift, height_shift_range=shift, zca_whitening=True, horizontal_flip=True,\n",
    "train_generator = datagen.flow_from_dataframe(\n",
    "                                              dataframe=dfrand, directory='D:\\\\Spectrograms\\\\SWB_NB2\\\\', x_col=\"Spectrograms\", y_col=\"MOS\",\n",
    "                                              target_size=(217,781), shuffle=True, batch_size=batch_size, class_mode='other', \n",
    "                                              subset='training')\n",
    "validation_generator = datagen.flow_from_dataframe(dataframe=dfrand, directory='D:\\\\Spectrograms\\\\SWB_NB2\\\\', x_col=\"Spectrograms\", y_col=\"MOS\",\n",
    "                                              target_size=(217,781), shuffle=True, batch_size=batch_size, class_mode='other', \n",
    "                                              subset='validation')   "
   ]
  },
  {
   "cell_type": "markdown",
   "metadata": {},
   "source": [
    "The model is then fitted with the generators data and checkpointed to save the best results. The number of epochs and steps are also set below. After training and validation is complete, graphs showing the loss (MSE) and MAE are plotted and saved. The weights of the model are saved again as a backup. "
   ]
  },
  {
   "cell_type": "code",
   "execution_count": 37,
   "metadata": {},
   "outputs": [
    {
     "name": "stdout",
     "output_type": "stream",
     "text": [
      "Epoch 1/1\n",
      "11537/11537 [==============================] - 3705s 321ms/step - loss: 0.1954 - mean_absolute_error: 0.3328 - val_loss: 0.2514 - val_mean_absolute_error: 0.3682\n"
     ]
    }
   ],
   "source": [
    "from keras.callbacks import EarlyStopping\n",
    "from keras.callbacks import TensorBoard\n",
    "from keras.callbacks import ModelCheckpoint\n",
    "from keras.models import load_model\n",
    "from time import time\n",
    "nb_epochs = 1\n",
    "\n",
    "checkpointer = ModelCheckpoint(filepath='./models/vgg16_sm_nb_dropout_best.h5',\n",
    "                               verbose=0,\n",
    "                               save_best_only=True)\n",
    "\n",
    "tensorboard = TensorBoard(log_dir = './logs/vgg16nbdrop', \n",
    "                          histogram_freq = 0, \n",
    "                          write_graph = True, \n",
    "                          write_images = True)\n",
    "\n",
    "es = EarlyStopping(monitor='val_loss', patience=2, mode='auto', verbose=1)\n",
    "\n",
    "#model.load_weights(\"./models/vgg16avg_swbfinal2_trained.h5\")\n",
    "          \n",
    "history = model.fit_generator(train_generator,\n",
    "                    steps_per_epoch = train_generator.samples //  batch_size,\n",
    "                    validation_data = validation_generator,\n",
    "                    validation_steps = validation_generator.samples // batch_size,\n",
    "                    epochs = nb_epochs, verbose=1, callbacks=[checkpointer,tensorboard]) "
   ]
  },
  {
   "cell_type": "markdown",
   "metadata": {},
   "source": []
  },
  {
   "cell_type": "code",
   "execution_count": 40,
   "metadata": {},
   "outputs": [],
   "source": [
    "\n",
    "model.save_weights(\"./models/vgg16avg_nb_trained_dropout.h5\") "
   ]
  },
  {
   "cell_type": "code",
   "execution_count": 32,
   "metadata": {
    "collapsed": true
   },
   "outputs": [
    {
     "name": "stdout",
     "output_type": "stream",
     "text": [
      "dict_keys(['val_loss', 'val_mean_absolute_error', 'loss', 'mean_absolute_error'])\n"
     ]
    },
    {
     "data": {
      "image/png": "[encoded data removed]",
      "text/plain": [
       "<Figure size 432x288 with 1 Axes>"
      ]
     },
     "metadata": {
      "needs_background": "light"
     },
     "output_type": "display_data"
    },
    {
     "data": {
      "image/png": "[encoded data removed]",
      "text/plain": [
       "<Figure size 432x288 with 1 Axes>"
      ]
     },
     "metadata": {
      "needs_background": "light"
     },
     "output_type": "display_data"
    }
   ],
   "source": [
    "import matplotlib.pyplot as plt\n",
    "%matplotlib inline\n",
    "#%% visualize training\n",
    "print(history.history.keys())\n",
    "# summarize history for accuracy\n",
    "plt.plot(history.history['mean_absolute_error'])\n",
    "plt.plot(history.history['val_mean_absolute_error'])\n",
    "plt.title('model error')\n",
    "plt.ylabel('Mean Absolute Error')\n",
    "plt.xlabel('epoch')\n",
    "plt.legend(['train', 'test'], loc='upper left')\n",
    "plt.savefig('vggnbaccngbestSWBFINAL23123.png',bbox_inches='tight')\n",
    "plt.show()\n",
    "# summarize history for loss\n",
    "plt.plot(history.history['loss'])\n",
    "plt.plot(history.history['val_loss'])\n",
    "plt.title('model loss')\n",
    "plt.ylabel('loss - mean squared error')\n",
    "plt.xlabel('epoch')\n",
    "plt.legend(['train', 'test'], loc='upper left')\n",
    "plt.savefig('vgg16_nb_loss_bestSWBFINAL123123.png', bbox_inches='tight')\n",
    "plt.show()"
   ]
  }
 ],
 "metadata": {
  "kernelspec": {
   "display_name": "Python 3",
   "language": "python",
   "name": "python3"
  },
  "language_info": {
   "codemirror_mode": {
    "name": "ipython",
    "version": 3
   },
   "file_extension": ".py",
   "mimetype": "text/x-python",
   "name": "python",
   "nbconvert_exporter": "python",
   "pygments_lexer": "ipython3",
   "version": "3.6.8"
  }
 },
 "nbformat": 4,
 "nbformat_minor": 2
}
